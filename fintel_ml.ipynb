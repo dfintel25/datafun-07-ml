{
 "cells": [
  {
   "cell_type": "markdown",
   "metadata": {},
   "source": [
    "## P7 Intro to Machine Learning\n",
    "Author: Derek Fintel, Forensics Analyst II, D555\n",
    "\n",
    "Contact: s542635@nwmissouri.edu\n",
    "\n",
    "Release Date: 02/24/2025\n",
    "\n",
    "Repository: [https://github.com/dfintel25/datafun-07-ml](https://github.com/dfintel25/datafun-07-ml)"
   ]
  },
  {
   "cell_type": "markdown",
   "metadata": {},
   "source": [
    "### Introduction\n",
    "This notebook covers an introductory analysis project for Machine Learning. We will leverage compiled weather information for the city of New York and use various measures to read, modify, express, and visualize the prospective changes over time. We'll conduct calculations to formulate the linear regression over time and assess predictions of the temperature found in specific years. "
   ]
  },
  {
   "cell_type": "markdown",
   "metadata": {},
   "source": [
    "### Imports"
   ]
  },
  {
   "cell_type": "code",
   "execution_count": 465,
   "metadata": {},
   "outputs": [],
   "source": [
    "import pandas as pd\n",
    "from scipy import stats\n",
    "import seaborn as sns\n",
    "from sklearn.model_selection import train_test_split\n",
    "from sklearn.linear_model import LinearRegression\n",
    "import matplotlib.pyplot as plt \n",
    "import numpy as np\n",
    "import seaborn as sns\n"
   ]
  },
  {
   "cell_type": "markdown",
   "metadata": {},
   "source": [
    "## Part 1 - Charting a Straight Line\n",
    "In Part 1, we will utilize a lambda calculation and function to construct our range and relationship of celsius to fahrenheit. We'll then plot the relationship for visual inference. "
   ]
  },
  {
   "cell_type": "code",
   "execution_count": 466,
   "metadata": {},
   "outputs": [
    {
     "data": {
      "image/png": "[encoded data removed]",
      "text/plain": [
       "<Figure size 640x480 with 1 Axes>"
      ]
     },
     "metadata": {},
     "output_type": "display_data"
    }
   ],
   "source": [
    "c = lambda f: 5 / 9 * (f - 32)\n",
    "temps = [(f, c(f)) for f in range(0, 101, 10)]\n",
    "temps_df = pd.DataFrame(temps, columns=['Fahrenheit', 'Celsius'])\n",
    "axes = temps_df.plot(x='Fahrenheit', y='Celsius', style='.-')\n",
    "\n",
    "y_label = axes.set_ylabel('Celsius')"
   ]
  },
  {
   "cell_type": "markdown",
   "metadata": {},
   "source": [
    "## Part 2 - Prediction"
   ]
  },
  {
   "cell_type": "markdown",
   "metadata": {},
   "source": [
    "### Section 1 - Data Acquisition\n",
    "For Part 2, we'll retrieve our base CSV dataset and begin to analyze its contents. We'll then review and make any adjustments to appropriately feature engineer our data. "
   ]
  },
  {
   "cell_type": "markdown",
   "metadata": {},
   "source": [
    "This script assigns \"nyc_df\" to the utilized CSV data."
   ]
  },
  {
   "cell_type": "code",
   "execution_count": null,
   "metadata": {},
   "outputs": [],
   "source": [
    "nyc_df = pd.read_csv('ave_hi_nyc_jan_1895-2018.csv')"
   ]
  },
  {
   "cell_type": "markdown",
   "metadata": {},
   "source": [
    "### Section 2 - Data Inspection"
   ]
  },
  {
   "cell_type": "markdown",
   "metadata": {},
   "source": [
    "This function is pulling the initial rows or our data."
   ]
  },
  {
   "cell_type": "code",
   "execution_count": null,
   "metadata": {},
   "outputs": [
    {
     "data": {
      "text/html": [
       "<div>\n",
       "<style scoped>\n",
       "    .dataframe tbody tr th:only-of-type {\n",
       "        vertical-align: middle;\n",
       "    }\n",
       "\n",
       "    .dataframe tbody tr th {\n",
       "        vertical-align: top;\n",
       "    }\n",
       "\n",
       "    .dataframe thead th {\n",
       "        text-align: right;\n",
       "    }\n",
       "</style>\n",
       "<table border=\"1\" class=\"dataframe\">\n",
       "  <thead>\n",
       "    <tr style=\"text-align: right;\">\n",
       "      <th></th>\n",
       "      <th>Date</th>\n",
       "      <th>Value</th>\n",
       "      <th>Anomaly</th>\n",
       "    </tr>\n",
       "  </thead>\n",
       "  <tbody>\n",
       "    <tr>\n",
       "      <th>0</th>\n",
       "      <td>189501</td>\n",
       "      <td>34.2</td>\n",
       "      <td>-3.2</td>\n",
       "    </tr>\n",
       "    <tr>\n",
       "      <th>1</th>\n",
       "      <td>189601</td>\n",
       "      <td>34.7</td>\n",
       "      <td>-2.7</td>\n",
       "    </tr>\n",
       "    <tr>\n",
       "      <th>2</th>\n",
       "      <td>189701</td>\n",
       "      <td>35.5</td>\n",
       "      <td>-1.9</td>\n",
       "    </tr>\n",
       "    <tr>\n",
       "      <th>3</th>\n",
       "      <td>189801</td>\n",
       "      <td>39.6</td>\n",
       "      <td>2.2</td>\n",
       "    </tr>\n",
       "    <tr>\n",
       "      <th>4</th>\n",
       "      <td>189901</td>\n",
       "      <td>36.4</td>\n",
       "      <td>-1.0</td>\n",
       "    </tr>\n",
       "  </tbody>\n",
       "</table>\n",
       "</div>"
      ],
      "text/plain": [
       "     Date  Value  Anomaly\n",
       "0  189501   34.2     -3.2\n",
       "1  189601   34.7     -2.7\n",
       "2  189701   35.5     -1.9\n",
       "3  189801   39.6      2.2\n",
       "4  189901   36.4     -1.0"
      ]
     },
     "execution_count": 468,
     "metadata": {},
     "output_type": "execute_result"
    }
   ],
   "source": [
    "nyc_df.head()"
   ]
  },
  {
   "cell_type": "markdown",
   "metadata": {},
   "source": [
    "This function is reading the last rows of our data."
   ]
  },
  {
   "cell_type": "code",
   "execution_count": null,
   "metadata": {},
   "outputs": [
    {
     "data": {
      "text/html": [
       "<div>\n",
       "<style scoped>\n",
       "    .dataframe tbody tr th:only-of-type {\n",
       "        vertical-align: middle;\n",
       "    }\n",
       "\n",
       "    .dataframe tbody tr th {\n",
       "        vertical-align: top;\n",
       "    }\n",
       "\n",
       "    .dataframe thead th {\n",
       "        text-align: right;\n",
       "    }\n",
       "</style>\n",
       "<table border=\"1\" class=\"dataframe\">\n",
       "  <thead>\n",
       "    <tr style=\"text-align: right;\">\n",
       "      <th></th>\n",
       "      <th>Date</th>\n",
       "      <th>Value</th>\n",
       "      <th>Anomaly</th>\n",
       "    </tr>\n",
       "  </thead>\n",
       "  <tbody>\n",
       "    <tr>\n",
       "      <th>119</th>\n",
       "      <td>201401</td>\n",
       "      <td>35.5</td>\n",
       "      <td>-1.9</td>\n",
       "    </tr>\n",
       "    <tr>\n",
       "      <th>120</th>\n",
       "      <td>201501</td>\n",
       "      <td>36.1</td>\n",
       "      <td>-1.3</td>\n",
       "    </tr>\n",
       "    <tr>\n",
       "      <th>121</th>\n",
       "      <td>201601</td>\n",
       "      <td>40.8</td>\n",
       "      <td>3.4</td>\n",
       "    </tr>\n",
       "    <tr>\n",
       "      <th>122</th>\n",
       "      <td>201701</td>\n",
       "      <td>42.8</td>\n",
       "      <td>5.4</td>\n",
       "    </tr>\n",
       "    <tr>\n",
       "      <th>123</th>\n",
       "      <td>201801</td>\n",
       "      <td>38.7</td>\n",
       "      <td>1.3</td>\n",
       "    </tr>\n",
       "  </tbody>\n",
       "</table>\n",
       "</div>"
      ],
      "text/plain": [
       "       Date  Value  Anomaly\n",
       "119  201401   35.5     -1.9\n",
       "120  201501   36.1     -1.3\n",
       "121  201601   40.8      3.4\n",
       "122  201701   42.8      5.4\n",
       "123  201801   38.7      1.3"
      ]
     },
     "execution_count": 469,
     "metadata": {},
     "output_type": "execute_result"
    }
   ],
   "source": [
    "nyc_df.tail()"
   ]
  },
  {
   "cell_type": "markdown",
   "metadata": {},
   "source": [
    "### Section 3 - Data Cleaning\n",
    "Here we find that we should feature engineer our data slightly. You'll notice we modify the \"Value\" column to read as \"Temperature\" instead. \n",
    "Additionally we use date.floordiv(100) to reduce unnecessary decimal places. \n",
    "We then re-print the head() to assess our changes."
   ]
  },
  {
   "cell_type": "code",
   "execution_count": 470,
   "metadata": {},
   "outputs": [
    {
     "data": {
      "text/html": [
       "<div>\n",
       "<style scoped>\n",
       "    .dataframe tbody tr th:only-of-type {\n",
       "        vertical-align: middle;\n",
       "    }\n",
       "\n",
       "    .dataframe tbody tr th {\n",
       "        vertical-align: top;\n",
       "    }\n",
       "\n",
       "    .dataframe thead th {\n",
       "        text-align: right;\n",
       "    }\n",
       "</style>\n",
       "<table border=\"1\" class=\"dataframe\">\n",
       "  <thead>\n",
       "    <tr style=\"text-align: right;\">\n",
       "      <th></th>\n",
       "      <th>Date</th>\n",
       "      <th>Temperature</th>\n",
       "      <th>Anomaly</th>\n",
       "    </tr>\n",
       "  </thead>\n",
       "  <tbody>\n",
       "    <tr>\n",
       "      <th>0</th>\n",
       "      <td>1895</td>\n",
       "      <td>34.2</td>\n",
       "      <td>-3.2</td>\n",
       "    </tr>\n",
       "    <tr>\n",
       "      <th>1</th>\n",
       "      <td>1896</td>\n",
       "      <td>34.7</td>\n",
       "      <td>-2.7</td>\n",
       "    </tr>\n",
       "    <tr>\n",
       "      <th>2</th>\n",
       "      <td>1897</td>\n",
       "      <td>35.5</td>\n",
       "      <td>-1.9</td>\n",
       "    </tr>\n",
       "  </tbody>\n",
       "</table>\n",
       "</div>"
      ],
      "text/plain": [
       "   Date  Temperature  Anomaly\n",
       "0  1895         34.2     -3.2\n",
       "1  1896         34.7     -2.7\n",
       "2  1897         35.5     -1.9"
      ]
     },
     "execution_count": 470,
     "metadata": {},
     "output_type": "execute_result"
    }
   ],
   "source": [
    "nyc_df.columns = ['Date', 'Temperature', 'Anomaly']\n",
    "nyc_df.Date = nyc_df.Date.floordiv(100)\n",
    "nyc_df.head(3)"
   ]
  },
  {
   "cell_type": "markdown",
   "metadata": {},
   "source": [
    "### Section 4 - Descriptive Statistics\n",
    "Here we use Temperature.describe() to leverage standard statictical calculations of our data and ('display.precision', 2) to reduce the decimal places of the results."
   ]
  },
  {
   "cell_type": "code",
   "execution_count": 471,
   "metadata": {},
   "outputs": [
    {
     "data": {
      "text/plain": [
       "count    124.00\n",
       "mean      37.60\n",
       "std        4.54\n",
       "min       26.10\n",
       "25%       34.58\n",
       "50%       37.60\n",
       "75%       40.60\n",
       "max       47.60\n",
       "Name: Temperature, dtype: float64"
      ]
     },
     "execution_count": 471,
     "metadata": {},
     "output_type": "execute_result"
    }
   ],
   "source": [
    "pd.set_option('display.precision', 2)\n",
    "nyc_df.Temperature.describe()"
   ]
  },
  {
   "cell_type": "markdown",
   "metadata": {},
   "source": [
    "### Section 5 - Build the Model\n",
    "In this section we construct our model by establishing stats.linregress against \"x\" values of the \"Date\" field in our data and \"y\" values of the \"Temperature\" field.\n",
    "We first print the Slope & Intercept and then use it to calculate the linear regression of years 1850 & 2019.  "
   ]
  },
  {
   "cell_type": "code",
   "execution_count": 472,
   "metadata": {},
   "outputs": [
    {
     "name": "stdout",
     "output_type": "stream",
     "text": [
      "Slope = 0.014771361132966163\n",
      "Intercept = 8.694993233674289\n",
      "Slope * Year 1850 + Intercept = 36.022011329661694\n",
      "Slope * Year 2019 + Intercept = 38.51837136113297\n"
     ]
    }
   ],
   "source": [
    "linear_regression = stats.linregress(x=nyc_df.Date, y=nyc_df.Temperature)\n",
    "\n",
    "print(\"Slope =\", linear_regression.slope)\n",
    "print(\"Intercept =\", linear_regression.intercept)\n",
    "print(\"Slope * Year 1850 + Intercept =\", linear_regression.slope * 1850 + linear_regression.intercept)\n",
    "print(\"Slope * Year 2019 + Intercept =\", linear_regression.slope * 2019 + linear_regression.intercept)"
   ]
  },
  {
   "cell_type": "markdown",
   "metadata": {},
   "source": [
    "### Section 6 - Predict\n",
    "This section houses our first \"prediction\" out of our model by utilizing our linear regression data against the prospective year, 2024."
   ]
  },
  {
   "cell_type": "code",
   "execution_count": 473,
   "metadata": {},
   "outputs": [
    {
     "name": "stdout",
     "output_type": "stream",
     "text": [
      "Slope * Year 2024 + Intercept = 38.5922281667978\n"
     ]
    }
   ],
   "source": [
    "linear_regression.slope * 2024 + linear_regression.intercept\n",
    "print(\"Slope * Year 2024 + Intercept =\", linear_regression.slope * 2024 + linear_regression.intercept)"
   ]
  },
  {
   "cell_type": "markdown",
   "metadata": {},
   "source": [
    "### Section 7 - Visualizations\n",
    "In our first visualization we set the style to a \"whitegrid\" and can\\ll our functions to plot the X-value data of Date, y-value of Temperature data and framed within the Y-limits of 10 thru 70."
   ]
  },
  {
   "cell_type": "code",
   "execution_count": 474,
   "metadata": {},
   "outputs": [
    {
     "name": "stdout",
     "output_type": "stream",
     "text": [
      "Y_Limits: (10.0, 70.0)\n"
     ]
    },
    {
     "data": {
      "image/png": "[encoded data removed]",
      "text/plain": [
       "<Figure size 640x480 with 1 Axes>"
      ]
     },
     "metadata": {},
     "output_type": "display_data"
    }
   ],
   "source": [
    "sns.set_style('whitegrid')\n",
    "axes = sns.regplot(x=nyc_df.Date, y=nyc_df.Temperature)\n",
    "print(\"Y_Limits:\", axes.set_ylim(10, 70))"
   ]
  },
  {
   "cell_type": "markdown",
   "metadata": {},
   "source": [
    "## Part 3 - Prediction\n",
    "In part 3, we construct our machine learning model, assign it our datasets, segment the datasets, retrieve its initial analysis and then it. We'll then query it against prospective years and finally plot the data to visualize it.  "
   ]
  },
  {
   "cell_type": "markdown",
   "metadata": {},
   "source": [
    "### Section 1 - Build the Model\n",
    "To build our model, we establish the training and testing parameters for X & Y values. We then reshape the X-Values of \"Date\" to a 2D column vector and then set the random_state to 11 to ensure reproducibility. "
   ]
  },
  {
   "cell_type": "code",
   "execution_count": null,
   "metadata": {},
   "outputs": [
    {
     "name": "stdout",
     "output_type": "stream",
     "text": [
      "X_Train of shape = (93, 1)\n",
      "X_Test of shape = (31, 1)\n"
     ]
    }
   ],
   "source": [
    "X_train, X_test, y_train, y_test = train_test_split(\n",
    "     nyc_df.Date.values.reshape(-1, 1), nyc_df.Temperature.values, \n",
    "     random_state=11)\n",
    "\n",
    "print(\"X_Train of shape =\", X_train.shape)\n",
    "print(\"X_Test of shape =\", X_test.shape)"
   ]
  },
  {
   "cell_type": "markdown",
   "metadata": {},
   "source": [
    "We are then able to calculate the linear regression of the set data. "
   ]
  },
  {
   "cell_type": "code",
   "execution_count": null,
   "metadata": {},
   "outputs": [
    {
     "name": "stdout",
     "output_type": "stream",
     "text": [
      "Linear Regression Coefficient = [0.01939167]\n",
      "Linear Regression Intercept = -0.30779820252656975\n"
     ]
    }
   ],
   "source": [
    "linear_regression = LinearRegression()\n",
    "linear_regression.fit(X=X_train, y=y_train)\n",
    "\n",
    "print(\"Linear Regression Coefficient =\", linear_regression.coef_)\n",
    "print(f\"Linear Regression Intercept =\", linear_regression.intercept_)"
   ]
  },
  {
   "cell_type": "markdown",
   "metadata": {},
   "source": [
    "### Section 2 - Test the Model\n",
    "In our model testing, we utilize \"predict(X_test)\" to predict temperature values. We then use \"expected = y_test\" to compare against the actual values found. \n",
    "\n",
    "We'll then have our functions reference every 5th calculation for both \"predicted\" and \"expected\" fields and print them to the second decimal place."
   ]
  },
  {
   "cell_type": "code",
   "execution_count": null,
   "metadata": {},
   "outputs": [
    {
     "name": "stdout",
     "output_type": "stream",
     "text": [
      "predicted: 37.86, expected: 31.70\n",
      "predicted: 38.69, expected: 34.80\n",
      "predicted: 37.00, expected: 39.40\n",
      "predicted: 37.25, expected: 45.70\n",
      "predicted: 38.05, expected: 32.30\n",
      "predicted: 37.64, expected: 33.80\n",
      "predicted: 36.94, expected: 39.70\n"
     ]
    }
   ],
   "source": [
    "predicted = linear_regression.predict(X_test)\n",
    "expected = y_test\n",
    "\n",
    "for p, e in zip(predicted[::5], expected[::5]):\n",
    "     print(f'predicted: {p:.2f}, expected: {e:.2f}')"
   ]
  },
  {
   "cell_type": "markdown",
   "metadata": {},
   "source": [
    "### Section 3 - Predict\n",
    "After training and testing our model, we're now able to query it against prospective years. We'll call upon our lambda function assign \"x\" to the calculation of coefficient times \"x\" plus the intercept."
   ]
  },
  {
   "cell_type": "code",
   "execution_count": null,
   "metadata": {},
   "outputs": [
    {
     "name": "stdout",
     "output_type": "stream",
     "text": [
      "1890 Prediction: [36.34246432]\n",
      "2019 Prediction: [38.84399018]\n",
      "2024 Prediction: [38.94094855]\n"
     ]
    }
   ],
   "source": [
    "predict = (lambda x: linear_regression.coef_ * x + linear_regression.intercept_)\n",
    "\n",
    "print(\"1890 Prediction:\", predict(1890))\n",
    "print(\"2019 Prediction:\", predict(2019))\n",
    "print(\"2024 Prediction:\", predict(2024))"
   ]
  },
  {
   "cell_type": "markdown",
   "metadata": {},
   "source": [
    "### Section 3 - Visualizations\n",
    "Finally, we're able to employ some visualizations to help interpret the trained model outputs. \n",
    "\n",
    "We'll setup a scatterplot referencing the \"Date\" value as x, the \"Temperature\" values as y, the hue as the range of temperature values, the color palette as a \"winter\" theme and omit a legend.\n",
    "\n",
    "We then set the framing limits to 10 thru 70 of the y-field, assign the date max/min values to x, and the prediction calculations to y. We'll complete the view by applying our slope calculation to the trend line. "
   ]
  },
  {
   "cell_type": "code",
   "execution_count": null,
   "metadata": {},
   "outputs": [
    {
     "data": {
      "image/png": "[encoded data removed]",
      "text/plain": [
       "<Figure size 640x480 with 1 Axes>"
      ]
     },
     "metadata": {},
     "output_type": "display_data"
    }
   ],
   "source": [
    "axes = sns.scatterplot(data=nyc_df, x='Date', y='Temperature',\n",
    "     hue='Temperature', palette='summer', legend=False)\n",
    "\n",
    "axes.set_ylim(10, 70)\n",
    "x = np.array([min(nyc_df.Date.values), max(nyc_df.Date.values)])\n",
    "y = predict(x)\n",
    "line = plt.plot(x, y)"
   ]
  },
  {
   "cell_type": "markdown",
   "metadata": {},
   "source": [
    "## Part 4 - Summary\n",
    "In closing of this analysis, we'll provide some observations of the two methods used and potential pro's & con's. \n",
    "\n",
    "For our intiial prediction (Part 2, Section 6), we leveraged a simple and static linear regression calcuation to predict the temperature in 2024, which read as: 38.59.\n",
    "\n",
    "We then built, trained, and tested a machine learning model to survey greater capabilities towards prediction. We fed the model the same base dataset but trained it to calculate the results over a multiplicity of repetitions and derived it's linear regression findings. In our trained model, it read 2024 as: 38.94.\n",
    "\n",
    "Here is a short pro's & con's of the respective approaches:\n",
    "\n",
    "Simple Linear Regression Calculation:\n",
    "\n",
    "    Pro's: Quick and easy if only needing a minimal amount of results.\n",
    "\n",
    "    Con's: May not be suitable for scaled calculations.\n",
    "\n",
    "Trained Machine Learning Model: \n",
    "\n",
    "    Pro's: Potentially robust and scalable calculation capabilities.\n",
    "\n",
    "    Con's: Can be trained in error or overtained and not accurate. \n",
    "    \n",
    "\n",
    "Thank you for taking the time to review this project and analysis of approaches. Please connect with me should you have any questions, recommendations, or commissionable interests. \n",
    "\n",
    "Best,\n",
    "\n",
    "Derek Fintel"
   ]
  }
 ],
 "metadata": {
  "kernelspec": {
   "display_name": ".venv",
   "language": "python",
   "name": "python3"
  },
  "language_info": {
   "codemirror_mode": {
    "name": "ipython",
    "version": 3
   },
   "file_extension": ".py",
   "mimetype": "text/x-python",
   "name": "python",
   "nbconvert_exporter": "python",
   "pygments_lexer": "ipython3",
   "version": "3.13.1"
  }
 },
 "nbformat": 4,
 "nbformat_minor": 2
}
